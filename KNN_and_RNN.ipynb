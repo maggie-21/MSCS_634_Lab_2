{
 "cells": [
  {
   "cell_type": "markdown",
   "id": "2ef23d75",
   "metadata": {},
   "source": [
    "**Name:** Muluwork Geremew \n",
    "\n",
    "**Course:** Advanced Big Data and Data Mining  \n",
    "**Lab Assignment:** Classification Using KNN and RNN Algorithms Lab 2"
   ]
  },
  {
   "cell_type": "code",
   "execution_count": 34,
   "id": "3650f6a1",
   "metadata": {},
   "outputs": [
    {
     "name": "stdout",
     "output_type": "stream",
     "text": [
      "Requirement already satisfied: matplotlib in ./.venv/lib/python3.13/site-packages (3.10.3)\n",
      "Requirement already satisfied: numpy in ./.venv/lib/python3.13/site-packages (2.3.0)\n",
      "Requirement already satisfied: scipy in ./.venv/lib/python3.13/site-packages (1.15.3)\n",
      "Requirement already satisfied: scikit-learn in ./.venv/lib/python3.13/site-packages (1.7.0)\n",
      "Collecting scikit-image\n",
      "  Downloading scikit_image-0.25.2-cp313-cp313-macosx_12_0_arm64.whl.metadata (14 kB)\n",
      "Requirement already satisfied: pandas in ./.venv/lib/python3.13/site-packages (2.3.0)\n",
      "Collecting torch\n",
      "  Downloading torch-2.7.1-cp313-none-macosx_11_0_arm64.whl.metadata (29 kB)\n",
      "Collecting torchvision\n",
      "  Downloading torchvision-0.22.1-cp313-cp313-macosx_11_0_arm64.whl.metadata (6.1 kB)\n",
      "Requirement already satisfied: contourpy>=1.0.1 in ./.venv/lib/python3.13/site-packages (from matplotlib) (1.3.2)\n",
      "Requirement already satisfied: cycler>=0.10 in ./.venv/lib/python3.13/site-packages (from matplotlib) (0.12.1)\n",
      "Requirement already satisfied: fonttools>=4.22.0 in ./.venv/lib/python3.13/site-packages (from matplotlib) (4.58.4)\n",
      "Requirement already satisfied: kiwisolver>=1.3.1 in ./.venv/lib/python3.13/site-packages (from matplotlib) (1.4.8)\n",
      "Requirement already satisfied: packaging>=20.0 in ./.venv/lib/python3.13/site-packages (from matplotlib) (25.0)\n",
      "Requirement already satisfied: pillow>=8 in ./.venv/lib/python3.13/site-packages (from matplotlib) (11.2.1)\n",
      "Requirement already satisfied: pyparsing>=2.3.1 in ./.venv/lib/python3.13/site-packages (from matplotlib) (3.2.3)\n",
      "Requirement already satisfied: python-dateutil>=2.7 in ./.venv/lib/python3.13/site-packages (from matplotlib) (2.9.0.post0)\n",
      "Requirement already satisfied: joblib>=1.2.0 in ./.venv/lib/python3.13/site-packages (from scikit-learn) (1.5.1)\n",
      "Requirement already satisfied: threadpoolctl>=3.1.0 in ./.venv/lib/python3.13/site-packages (from scikit-learn) (3.6.0)\n",
      "Collecting networkx>=3.0 (from scikit-image)\n",
      "  Downloading networkx-3.5-py3-none-any.whl.metadata (6.3 kB)\n",
      "Collecting imageio!=2.35.0,>=2.33 (from scikit-image)\n",
      "  Downloading imageio-2.37.0-py3-none-any.whl.metadata (5.2 kB)\n",
      "Collecting tifffile>=2022.8.12 (from scikit-image)\n",
      "  Downloading tifffile-2025.6.11-py3-none-any.whl.metadata (32 kB)\n",
      "Collecting lazy-loader>=0.4 (from scikit-image)\n",
      "  Downloading lazy_loader-0.4-py3-none-any.whl.metadata (7.6 kB)\n",
      "Requirement already satisfied: pytz>=2020.1 in ./.venv/lib/python3.13/site-packages (from pandas) (2025.2)\n",
      "Requirement already satisfied: tzdata>=2022.7 in ./.venv/lib/python3.13/site-packages (from pandas) (2025.2)\n",
      "Collecting filelock (from torch)\n",
      "  Downloading filelock-3.18.0-py3-none-any.whl.metadata (2.9 kB)\n",
      "Collecting typing-extensions>=4.10.0 (from torch)\n",
      "  Downloading typing_extensions-4.14.0-py3-none-any.whl.metadata (3.0 kB)\n",
      "Collecting setuptools (from torch)\n",
      "  Using cached setuptools-80.9.0-py3-none-any.whl.metadata (6.6 kB)\n",
      "Collecting sympy>=1.13.3 (from torch)\n",
      "  Downloading sympy-1.14.0-py3-none-any.whl.metadata (12 kB)\n",
      "Collecting jinja2 (from torch)\n",
      "  Downloading jinja2-3.1.6-py3-none-any.whl.metadata (2.9 kB)\n",
      "Collecting fsspec (from torch)\n",
      "  Downloading fsspec-2025.5.1-py3-none-any.whl.metadata (11 kB)\n",
      "Requirement already satisfied: six>=1.5 in ./.venv/lib/python3.13/site-packages (from python-dateutil>=2.7->matplotlib) (1.17.0)\n",
      "Collecting mpmath<1.4,>=1.1.0 (from sympy>=1.13.3->torch)\n",
      "  Downloading mpmath-1.3.0-py3-none-any.whl.metadata (8.6 kB)\n",
      "Collecting MarkupSafe>=2.0 (from jinja2->torch)\n",
      "  Using cached MarkupSafe-3.0.2-cp313-cp313-macosx_11_0_arm64.whl.metadata (4.0 kB)\n",
      "Downloading scikit_image-0.25.2-cp313-cp313-macosx_12_0_arm64.whl (13.2 MB)\n",
      "\u001b[2K   \u001b[90m━━━━━━━━━━━━━━━━━━━━━━━━━━━━━━━━━━━━━━━━\u001b[0m \u001b[32m13.2/13.2 MB\u001b[0m \u001b[31m57.6 MB/s\u001b[0m eta \u001b[36m0:00:00\u001b[0ma \u001b[36m0:00:01\u001b[0m\n",
      "\u001b[?25hDownloading torch-2.7.1-cp313-none-macosx_11_0_arm64.whl (68.6 MB)\n",
      "\u001b[2K   \u001b[90m━━━━━━━━━━━━━━━━━━━━━━━━━━━━━━━━━━━━━━━━\u001b[0m \u001b[32m68.6/68.6 MB\u001b[0m \u001b[31m60.9 MB/s\u001b[0m eta \u001b[36m0:00:00\u001b[0m00:01\u001b[0m00:01\u001b[0m\n",
      "\u001b[?25hDownloading torchvision-0.22.1-cp313-cp313-macosx_11_0_arm64.whl (1.9 MB)\n",
      "\u001b[2K   \u001b[90m━━━━━━━━━━━━━━━━━━━━━━━━━━━━━━━━━━━━━━━━\u001b[0m \u001b[32m1.9/1.9 MB\u001b[0m \u001b[31m48.8 MB/s\u001b[0m eta \u001b[36m0:00:00\u001b[0m\n",
      "\u001b[?25hDownloading imageio-2.37.0-py3-none-any.whl (315 kB)\n",
      "Downloading lazy_loader-0.4-py3-none-any.whl (12 kB)\n",
      "Downloading networkx-3.5-py3-none-any.whl (2.0 MB)\n",
      "\u001b[2K   \u001b[90m━━━━━━━━━━━━━━━━━━━━━━━━━━━━━━━━━━━━━━━━\u001b[0m \u001b[32m2.0/2.0 MB\u001b[0m \u001b[31m55.9 MB/s\u001b[0m eta \u001b[36m0:00:00\u001b[0m\n",
      "\u001b[?25hDownloading sympy-1.14.0-py3-none-any.whl (6.3 MB)\n",
      "\u001b[2K   \u001b[90m━━━━━━━━━━━━━━━━━━━━━━━━━━━━━━━━━━━━━━━━\u001b[0m \u001b[32m6.3/6.3 MB\u001b[0m \u001b[31m57.2 MB/s\u001b[0m eta \u001b[36m0:00:00\u001b[0m\n",
      "\u001b[?25hDownloading mpmath-1.3.0-py3-none-any.whl (536 kB)\n",
      "\u001b[2K   \u001b[90m━━━━━━━━━━━━━━━━━━━━━━━━━━━━━━━━━━━━━━━━\u001b[0m \u001b[32m536.2/536.2 kB\u001b[0m \u001b[31m24.8 MB/s\u001b[0m eta \u001b[36m0:00:00\u001b[0m\n",
      "\u001b[?25hDownloading tifffile-2025.6.11-py3-none-any.whl (230 kB)\n",
      "Downloading typing_extensions-4.14.0-py3-none-any.whl (43 kB)\n",
      "Downloading filelock-3.18.0-py3-none-any.whl (16 kB)\n",
      "Downloading fsspec-2025.5.1-py3-none-any.whl (199 kB)\n",
      "Downloading jinja2-3.1.6-py3-none-any.whl (134 kB)\n",
      "Using cached MarkupSafe-3.0.2-cp313-cp313-macosx_11_0_arm64.whl (12 kB)\n",
      "Using cached setuptools-80.9.0-py3-none-any.whl (1.2 MB)\n",
      "Installing collected packages: mpmath, typing-extensions, tifffile, sympy, setuptools, networkx, MarkupSafe, lazy-loader, imageio, fsspec, filelock, scikit-image, jinja2, torch, torchvision\n",
      "\u001b[2K   \u001b[90m━━━━━━━━━━━━━━━━━━━━━━━━━━━━━━━━━━━━━━━━\u001b[0m \u001b[32m15/15\u001b[0m [torchvision]\u001b[0m [torchvision]]\n",
      "\u001b[1A\u001b[2KSuccessfully installed MarkupSafe-3.0.2 filelock-3.18.0 fsspec-2025.5.1 imageio-2.37.0 jinja2-3.1.6 lazy-loader-0.4 mpmath-1.3.0 networkx-3.5 scikit-image-0.25.2 setuptools-80.9.0 sympy-1.14.0 tifffile-2025.6.11 torch-2.7.1 torchvision-0.22.1 typing-extensions-4.14.0\n",
      "Note: you may need to restart the kernel to use updated packages.\n"
     ]
    }
   ],
   "source": [
    "%pip install matplotlib numpy scipy scikit-learn scikit-image pandas torch torchvision"
   ]
  },
  {
   "cell_type": "code",
   "execution_count": null,
   "id": "e23c9bc4",
   "metadata": {},
   "outputs": [
    {
     "name": "stdout",
     "output_type": "stream",
     "text": [
      "Requirement already satisfied: scikit-learn in ./.venv/lib/python3.13/site-packages (1.7.0)\n",
      "Requirement already satisfied: numpy>=1.22.0 in ./.venv/lib/python3.13/site-packages (from scikit-learn) (2.3.0)\n",
      "Requirement already satisfied: scipy>=1.8.0 in ./.venv/lib/python3.13/site-packages (from scikit-learn) (1.15.3)\n",
      "Requirement already satisfied: joblib>=1.2.0 in ./.venv/lib/python3.13/site-packages (from scikit-learn) (1.5.1)\n",
      "Requirement already satisfied: threadpoolctl>=3.1.0 in ./.venv/lib/python3.13/site-packages (from scikit-learn) (3.6.0)\n",
      "Note: you may need to restart the kernel to use updated packages.\n"
     ]
    }
   ],
   "source": [
    "\n",
    "from sklearn.datasets import load_wine\n",
    "\n",
    "# Load the dataset\n",
    "wine = load_wine()"
   ]
  },
  {
   "cell_type": "markdown",
   "id": "d7562114",
   "metadata": {},
   "source": [
    "### Step 1: Load and Prepare the Dataset"
   ]
  },
  {
   "cell_type": "code",
   "execution_count": null,
   "id": "a2bbfb7c",
   "metadata": {},
   "outputs": [],
   "source": [
    "# %pip install pandas\n",
    "import pandas as pd\n",
    "\n",
    "\n",
    "# 1. Create a DataFrame\n",
    "df = pd.DataFrame(wine.data, columns=wine.feature_names)\n",
    "df['target'] = wine.target"
   ]
  },
  {
   "cell_type": "code",
   "execution_count": 16,
   "id": "5e4ea1f0",
   "metadata": {},
   "outputs": [
    {
     "name": "stdout",
     "output_type": "stream",
     "text": [
      "   alcohol  malic_acid   ash  alcalinity_of_ash  magnesium  total_phenols  \\\n",
      "0    14.23        1.71  2.43               15.6      127.0           2.80   \n",
      "1    13.20        1.78  2.14               11.2      100.0           2.65   \n",
      "2    13.16        2.36  2.67               18.6      101.0           2.80   \n",
      "3    14.37        1.95  2.50               16.8      113.0           3.85   \n",
      "4    13.24        2.59  2.87               21.0      118.0           2.80   \n",
      "\n",
      "   flavanoids  nonflavanoid_phenols  proanthocyanins  color_intensity   hue  \\\n",
      "0        3.06                  0.28             2.29             5.64  1.04   \n",
      "1        2.76                  0.26             1.28             4.38  1.05   \n",
      "2        3.24                  0.30             2.81             5.68  1.03   \n",
      "3        3.49                  0.24             2.18             7.80  0.86   \n",
      "4        2.69                  0.39             1.82             4.32  1.04   \n",
      "\n",
      "   od280/od315_of_diluted_wines  proline  target  \n",
      "0                          3.92   1065.0       0  \n",
      "1                          3.40   1050.0       0  \n",
      "2                          3.17   1185.0       0  \n",
      "3                          3.45   1480.0       0  \n",
      "4                          2.93    735.0       0  \n",
      "<class 'pandas.core.frame.DataFrame'>\n",
      "RangeIndex: 178 entries, 0 to 177\n",
      "Data columns (total 14 columns):\n",
      " #   Column                        Non-Null Count  Dtype  \n",
      "---  ------                        --------------  -----  \n",
      " 0   alcohol                       178 non-null    float64\n",
      " 1   malic_acid                    178 non-null    float64\n",
      " 2   ash                           178 non-null    float64\n",
      " 3   alcalinity_of_ash             178 non-null    float64\n",
      " 4   magnesium                     178 non-null    float64\n",
      " 5   total_phenols                 178 non-null    float64\n",
      " 6   flavanoids                    178 non-null    float64\n",
      " 7   nonflavanoid_phenols          178 non-null    float64\n",
      " 8   proanthocyanins               178 non-null    float64\n",
      " 9   color_intensity               178 non-null    float64\n",
      " 10  hue                           178 non-null    float64\n",
      " 11  od280/od315_of_diluted_wines  178 non-null    float64\n",
      " 12  proline                       178 non-null    float64\n",
      " 13  target                        178 non-null    int64  \n",
      "dtypes: float64(13), int64(1)\n",
      "memory usage: 19.6 KB\n",
      "None\n",
      "          alcohol  malic_acid         ash  alcalinity_of_ash   magnesium  \\\n",
      "count  178.000000  178.000000  178.000000         178.000000  178.000000   \n",
      "mean    13.000618    2.336348    2.366517          19.494944   99.741573   \n",
      "std      0.811827    1.117146    0.274344           3.339564   14.282484   \n",
      "min     11.030000    0.740000    1.360000          10.600000   70.000000   \n",
      "25%     12.362500    1.602500    2.210000          17.200000   88.000000   \n",
      "50%     13.050000    1.865000    2.360000          19.500000   98.000000   \n",
      "75%     13.677500    3.082500    2.557500          21.500000  107.000000   \n",
      "max     14.830000    5.800000    3.230000          30.000000  162.000000   \n",
      "\n",
      "       total_phenols  flavanoids  nonflavanoid_phenols  proanthocyanins  \\\n",
      "count     178.000000  178.000000            178.000000       178.000000   \n",
      "mean        2.295112    2.029270              0.361854         1.590899   \n",
      "std         0.625851    0.998859              0.124453         0.572359   \n",
      "min         0.980000    0.340000              0.130000         0.410000   \n",
      "25%         1.742500    1.205000              0.270000         1.250000   \n",
      "50%         2.355000    2.135000              0.340000         1.555000   \n",
      "75%         2.800000    2.875000              0.437500         1.950000   \n",
      "max         3.880000    5.080000              0.660000         3.580000   \n",
      "\n",
      "       color_intensity         hue  od280/od315_of_diluted_wines      proline  \\\n",
      "count       178.000000  178.000000                    178.000000   178.000000   \n",
      "mean          5.058090    0.957449                      2.611685   746.893258   \n",
      "std           2.318286    0.228572                      0.709990   314.907474   \n",
      "min           1.280000    0.480000                      1.270000   278.000000   \n",
      "25%           3.220000    0.782500                      1.937500   500.500000   \n",
      "50%           4.690000    0.965000                      2.780000   673.500000   \n",
      "75%           6.200000    1.120000                      3.170000   985.000000   \n",
      "max          13.000000    1.710000                      4.000000  1680.000000   \n",
      "\n",
      "           target  \n",
      "count  178.000000  \n",
      "mean     0.938202  \n",
      "std      0.775035  \n",
      "min      0.000000  \n",
      "25%      0.000000  \n",
      "50%      1.000000  \n",
      "75%      2.000000  \n",
      "max      2.000000  \n",
      "target\n",
      "1    71\n",
      "0    59\n",
      "2    48\n",
      "Name: count, dtype: int64\n"
     ]
    }
   ],
   "source": [
    "\n",
    "# 2. Peek at the first few rows\n",
    "print(df.head())\n",
    "\n",
    "# 3. Check data types & non-null counts\n",
    "print(df.info())\n",
    "\n",
    "# 4. Get summary statistics for each feature\n",
    "print(df.describe())\n",
    "\n",
    "# 5. Look at class distribution\n",
    "print(df['target'].value_counts())\n"
   ]
  },
  {
   "cell_type": "code",
   "execution_count": null,
   "id": "a22b700f",
   "metadata": {},
   "outputs": [
    {
     "name": "stdout",
     "output_type": "stream",
     "text": [
      "Training features shape: (142, 13)\n",
      "Test features shape:     (36, 13)\n",
      "Training labels shape:   (142,)\n",
      "Test labels shape:       (36,)\n"
     ]
    }
   ],
   "source": [
    "from sklearn.model_selection import train_test_split\n",
    "X, y = wine.data, wine.target\n",
    "X_train, X_test, y_train, y_test = train_test_split(\n",
    "    X, \n",
    "    y, \n",
    "    test_size=0.20,    # 20% test set\n",
    "    random_state=42,   # for reproducibility, random_state ensures we get the same split every run.\n",
    "    stratify=y         # preserves class proportions, keeps the three wine-class proportions consistent between train and test.\n",
    ")\n",
    "# Quick check of shapes:\n",
    "print(\"Training features shape:\", X_train.shape)\n",
    "print(\"Test features shape:    \", X_test.shape)\n",
    "print(\"Training labels shape:  \", y_train.shape)\n",
    "print(\"Test labels shape:      \", y_test.shape)"
   ]
  },
  {
   "cell_type": "markdown",
   "id": "c9875be1",
   "metadata": {},
   "source": [
    "### Step 2: Implement K-Nearest Neighbors (KNN)"
   ]
  },
  {
   "cell_type": "code",
   "execution_count": 18,
   "id": "697c0df3",
   "metadata": {},
   "outputs": [
    {
     "name": "stdout",
     "output_type": "stream",
     "text": [
      "k =  1 → test accuracy = 0.7778\n",
      "k =  5 → test accuracy = 0.8056\n",
      "k = 11 → test accuracy = 0.8056\n",
      "k = 15 → test accuracy = 0.8056\n",
      "k = 21 → test accuracy = 0.8056\n"
     ]
    }
   ],
   "source": [
    "from sklearn.neighbors import KNeighborsClassifier\n",
    "# 1. Create a KNN classifier\n",
    "k_values = [1, 5, 11, 15, 21]\n",
    "knn_accuracies = {}\n",
    "\n",
    "# 2. Fit the model and evaluate accuracy for each k\n",
    "for k in k_values:\n",
    "    knn = KNeighborsClassifier(n_neighbors=k) # Create a KNN classifier with k neighbors\n",
    "    knn.fit(X_train, y_train) # Fit the model on the training data\n",
    "    score = knn.score(X_test, y_test) # Evaluate the model on the test data\n",
    "    knn_accuracies[k] = score   \n",
    "    print(f\"k = {k:2d} → test accuracy = {score:.4f}\")\n",
    "\n"
   ]
  },
  {
   "cell_type": "markdown",
   "id": "344fdc8e",
   "metadata": {},
   "source": [
    "### Step 3: Implement Radius Neighbors (RNN) "
   ]
  },
  {
   "cell_type": "code",
   "execution_count": 50,
   "id": "03f4c233",
   "metadata": {},
   "outputs": [
    {
     "name": "stdout",
     "output_type": "stream",
     "text": [
      "radius = 350 → test accuracy = 0.722\n",
      "radius = 400 → test accuracy = 0.694\n",
      "radius = 450 → test accuracy = 0.694\n",
      "radius = 500 → test accuracy = 0.694\n",
      "radius = 550 → test accuracy = 0.667\n",
      "radius = 600 → test accuracy = 0.667\n"
     ]
    }
   ],
   "source": [
    "#Implement the RNN Classifier using radius values such as 350, 400, 450, 500, 550, and 600\n",
    "from sklearn.neighbors import RadiusNeighborsClassifier\n",
    "radius_values = [350, 400, 450, 500, 550, 600]\n",
    "rnn_accuracies = {}\n",
    "\n",
    "for r in radius_values:\n",
    "    rnn = RadiusNeighborsClassifier(radius=r)\n",
    "    rnn.fit(X_train, y_train)\n",
    "    score = rnn.score(X_test, y_test)\n",
    "    rnn_accuracies[r] = score\n",
    "    print(f\"radius = {r:3d} → test accuracy = {score:.3f}\")"
   ]
  },
  {
   "cell_type": "markdown",
   "id": "7b250613",
   "metadata": {},
   "source": [
    "### Step 4: Visualize and Compare Results"
   ]
  },
  {
   "cell_type": "code",
   "execution_count": 36,
   "id": "40d1cb5b",
   "metadata": {},
   "outputs": [
    {
     "name": "stdout",
     "output_type": "stream",
     "text": [
      "knn_accuracies: ['0.778', '0.806', '0.806', '0.806', '0.806']\n"
     ]
    },
    {
     "data": {
      "image/png": "[encoded data removed]",
      "text/plain": [
       "<Figure size 640x480 with 1 Axes>"
      ]
     },
     "metadata": {},
     "output_type": "display_data"
    }
   ],
   "source": [
    "\n",
    "import matplotlib.pyplot as plt\n",
    "\n",
    "print(f\"knn_accuracies: {[f'{k:.3f}' for k in knn_accuracies]}\")\n",
    "\n",
    "plt.figure()\n",
    "plt.plot(k_values, knn_accuracies, marker='o')\n",
    "plt.title('KNN Accuracy vs. k')\n",
    "plt.xlabel('Number of Neighbors (k)')\n",
    "plt.ylabel('Accuracy')\n",
    "plt.xticks(k_values)\n",
    "plt.show()"
   ]
  },
  {
   "cell_type": "code",
   "execution_count": 54,
   "id": "c55236e2",
   "metadata": {},
   "outputs": [
    {
     "name": "stdout",
     "output_type": "stream",
     "text": [
      "rnn_accuracies: ['0.7222', '0.6944', '0.6944', '0.6944', '0.6667', '0.6667']\n"
     ]
    },
    {
     "data": {
      "image/png": "[encoded data removed]",
      "text/plain": [
       "<Figure size 640x480 with 1 Axes>"
      ]
     },
     "metadata": {},
     "output_type": "display_data"
    }
   ],
   "source": [
    "print(f\"rnn_accuracies: {[f'{rnn_accuracies[r]:.4f}' for r in radius_values]}\")\n",
    "plt.figure()\n",
    "plt.plot(radius_values, [rnn_accuracies[r] for r in radius_values], marker='o')\n",
    "plt.title('RNN Accuracy vs. Radius')\n",
    "plt.xlabel('Radius')\n",
    "plt.ylabel('Accuracy')\n",
    "plt.xticks(radius_values)\n",
    "plt.show()\n"
   ]
  },
  {
   "cell_type": "markdown",
   "id": "3a7194e7",
   "metadata": {},
   "source": [
    "## Key Observations\n",
    "\n",
    "### 1. KNN Steadily Outperforms RNN\n",
    "- Across all chosen radii, the Radius Neighbors classifier never reaches the accuracy achieved by even the simplest KNN setting (k=1).\n",
    "- **KNN** peaks at about **0.806** for k ≥ 5, whereas **RNN** tops out at **0.722** for radius = 350.\n",
    "\n",
    "### 2. KNN Accuracy Plateaus After k ≈ 5\n",
    "- Accuracy jumps from **0.778** at k=1 up to **0.806** at k=5, and remains stable through k=21.\n",
    "- This suggests diminishing returns from larger neighborhoods; extra neighbors beyond k=5 mostly reinforce the same class vote.\n",
    "\n",
    "### 3. RNN Accuracy Declines as Radius Grows\n",
    "- With a small radius (350), RNN achieves its best performance (**0.722**).\n",
    "- As the radius increases, more distant (and potentially different-class) points are included, reducing discriminative power.\n",
    "\n",
    "### 4. Sensitivity to Scale and Density\n",
    "- **KNN** always uses exactly k neighbors, making it robust to regions of varying density.\n",
    "- **RNN** includes all neighbors within a fixed distance:\n",
    "    - If the radius is too small, some points may have too few (or zero) neighbors.\n",
    "    - If too large, decisions are diluted by points from other classes.\n",
    "\n",
    "---\n",
    "\n",
    "## When to Prefer KNN vs. RNN\n",
    "\n",
    "### Choose **KNN** When:\n",
    "- Consistent decision-making is needed, regardless of data density.\n",
    "- You prefer to specify \"look at exactly k neighbors\" rather than an absolute distance.\n",
    "- Features are not on a uniform scale (or not normalized); KNN is more forgiving since it cares about relative ordering of distances.\n",
    "\n",
    "### Choose **RNN** When:\n",
    "- Natural clusters of roughly uniform radius are expected, and denser clusters should vote more strongly.\n",
    "- All features are carefully normalized or standardized, so a radius truly represents \"similarity.\"\n",
    "- A variable neighbor count is desired (many votes in dense regions, fewer in sparse), because density itself is informative.\n"
   ]
  }
 ],
 "metadata": {
  "kernelspec": {
   "display_name": ".venv",
   "language": "python",
   "name": "python3"
  },
  "language_info": {
   "codemirror_mode": {
    "name": "ipython",
    "version": 3
   },
   "file_extension": ".py",
   "mimetype": "text/x-python",
   "name": "python",
   "nbconvert_exporter": "python",
   "pygments_lexer": "ipython3",
   "version": "3.13.3"
  }
 },
 "nbformat": 4,
 "nbformat_minor": 5
}
